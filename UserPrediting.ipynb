{
 "cells": [
  {
   "cell_type": "code",
   "execution_count": 50,
   "metadata": {},
   "outputs": [
    {
     "name": "stdout",
     "output_type": "stream",
     "text": [
      "48\n"
     ]
    }
   ],
   "source": [
    "import pandas as pd\n",
    "\n",
    "data=pd.read_csv('XColums.csv')\n",
    "RequiredColums=[i[0] for i in data.values]\n",
    "print(len(RequiredColums))"
   ]
  },
  {
   "cell_type": "code",
   "execution_count": 51,
   "metadata": {},
   "outputs": [
    {
     "data": {
      "text/plain": [
       "{'Kilometers_Driven': [0],\n",
       " 'Mileage': [0],\n",
       " 'Engine': [0],\n",
       " 'Power': [0],\n",
       " 'Seats': [0],\n",
       " 'Age': [0],\n",
       " 'Ambassador': [0],\n",
       " 'Audi': [0],\n",
       " 'BMW': [0],\n",
       " 'Bentley': [0],\n",
       " 'Chevrolet': [0],\n",
       " 'Datsun': [0],\n",
       " 'Fiat': [0],\n",
       " 'Force': [0],\n",
       " 'Ford': [0],\n",
       " 'Honda': [0],\n",
       " 'Hyundai': [0],\n",
       " 'ISUZU': [0],\n",
       " 'Isuzu': [0],\n",
       " 'Jaguar': [0],\n",
       " 'Jeep': [0],\n",
       " 'Lamborghini': [0],\n",
       " 'Land': [0],\n",
       " 'Mahindra': [0],\n",
       " 'Maruti': [0],\n",
       " 'Mercedes-Benz': [0],\n",
       " 'Mini': [0],\n",
       " 'Mitsubishi': [0],\n",
       " 'Nissan': [0],\n",
       " 'Porsche': [0],\n",
       " 'Renault': [0],\n",
       " 'Skoda': [0],\n",
       " 'Smart': [0],\n",
       " 'Tata': [0],\n",
       " 'Toyota': [0],\n",
       " 'Volkswagen': [0],\n",
       " 'Volvo': [0],\n",
       " 'CNG': [0],\n",
       " 'Diesel': [0],\n",
       " 'Electric': [0],\n",
       " 'LPG': [0],\n",
       " 'Petrol': [0],\n",
       " 'First': [0],\n",
       " 'Fourth & Above': [0],\n",
       " 'Second': [0],\n",
       " 'Third': [0],\n",
       " 'Automatic': [0],\n",
       " 'Manual': [0]}"
      ]
     },
     "metadata": {},
     "output_type": "display_data"
    }
   ],
   "source": [
    "DictForPredition={}\n",
    "# dummyYesNo=[0, 0, 0, 0, 0, 0, 0, 0, 0, 0, 0, 0, 0, 0, 0, 0, 0, 0, 0, 0, 0, 0, 0, 0, 0, 0, 0, 0, 0, 0, 0]\n",
    "for i in range(len(RequiredColums)):\n",
    "    DictForPredition[RequiredColums[i]]=[0]\n",
    "display(DictForPredition)\n",
    "\n",
    "brandName=['Ambassador', 'Audi', 'BMW', 'Bentley', 'Chevrolet', 'Datsun', 'Fiat',\n",
    "       'Force', 'Ford', 'Honda', 'Hyundai', 'ISUZU', 'Isuzu', 'Jaguar', 'Jeep',\n",
    "       'Lamborghini', 'Land', 'Mahindra', 'Maruti', 'Mercedes-Benz', 'Mini',\n",
    "       'Mitsubishi', 'Nissan', 'Porsche', 'Renault', 'Skoda', 'Smart', 'Tata',\n",
    "       'Toyota', 'Volkswagen', 'Volvo']\n",
    "FuelType=['CNG', 'Diesel', 'Electric', 'LPG', 'Petrol']\n",
    "owner=['First', 'Fourth & Above', 'Second', 'Third']\n",
    "Transmission=['Automatic', 'Manual']\n",
    "\n"
   ]
  },
  {
   "cell_type": "markdown",
   "metadata": {},
   "source": [
    "## Entering Data"
   ]
  },
  {
   "cell_type": "code",
   "execution_count": 52,
   "metadata": {},
   "outputs": [],
   "source": [
    "\n",
    "DictForPredition['Kilometers_Driven']=int(input(\"Enter the KiloMeters :\"))\n",
    "DictForPredition['Mileage']=float(input(\"Enter the Mileage : \"))\n",
    "DictForPredition['Power']=float(input(\"Enter the Power : \"))\n",
    "DictForPredition['Engine']=float(input(\"Enter the Engine : \"))\n",
    "DictForPredition['Seats']=int(input(\"Enter the Seats : \"))\n",
    "\n",
    "from datetime import datetime\n",
    "d=datetime.now().year\n",
    "DictForPredition['Age']=d-int(input(\"Enter the Year of Manufacturing : \"))\n",
    "\n",
    "# ENTERING THE BRAND NAME\n",
    "\n",
    "name=input(\"{}: \\n\\nEnter The Name of Your CAR: \".format(brandName))\n",
    "if name in DictForPredition.keys():\n",
    "    DictForPredition[name]=[1]\n",
    "\n",
    "# ENTERING THE FUEL TYPE\n",
    "\n",
    "e=input(\"{}: \\n\\nEnter The FUEL TYPE: \".format(FuelType))\n",
    "if e in DictForPredition.keys():\n",
    "    DictForPredition[e]=[1]\n",
    "ownerr=input(\"{}: \\n\\nWhich OWner:  \".format(owner))\n",
    "if ownerr in DictForPredition.keys():\n",
    "    DictForPredition[ownerr]=[1]\n",
    "Transmissiontype=input(\"{}: \\n\\nEnter The Transmission Type: \".format(Transmission))\n",
    "if Transmissiontype in DictForPredition.keys():\n",
    "    DictForPredition[Transmissiontype]=[1]\n"
   ]
  },
  {
   "cell_type": "code",
   "execution_count": 53,
   "metadata": {},
   "outputs": [
    {
     "data": {
      "text/html": [
       "<div>\n",
       "<style scoped>\n",
       "    .dataframe tbody tr th:only-of-type {\n",
       "        vertical-align: middle;\n",
       "    }\n",
       "\n",
       "    .dataframe tbody tr th {\n",
       "        vertical-align: top;\n",
       "    }\n",
       "\n",
       "    .dataframe thead th {\n",
       "        text-align: right;\n",
       "    }\n",
       "</style>\n",
       "<table border=\"1\" class=\"dataframe\">\n",
       "  <thead>\n",
       "    <tr style=\"text-align: right;\">\n",
       "      <th></th>\n",
       "      <th>Kilometers_Driven</th>\n",
       "      <th>Mileage</th>\n",
       "      <th>Engine</th>\n",
       "      <th>Power</th>\n",
       "      <th>Seats</th>\n",
       "      <th>Age</th>\n",
       "      <th>Ambassador</th>\n",
       "      <th>Audi</th>\n",
       "      <th>BMW</th>\n",
       "      <th>Bentley</th>\n",
       "      <th>...</th>\n",
       "      <th>Diesel</th>\n",
       "      <th>Electric</th>\n",
       "      <th>LPG</th>\n",
       "      <th>Petrol</th>\n",
       "      <th>First</th>\n",
       "      <th>Fourth &amp; Above</th>\n",
       "      <th>Second</th>\n",
       "      <th>Third</th>\n",
       "      <th>Automatic</th>\n",
       "      <th>Manual</th>\n",
       "    </tr>\n",
       "  </thead>\n",
       "  <tbody>\n",
       "    <tr>\n",
       "      <th>0</th>\n",
       "      <td>40000</td>\n",
       "      <td>21.0</td>\n",
       "      <td>1498.0</td>\n",
       "      <td>99.0</td>\n",
       "      <td>5</td>\n",
       "      <td>7</td>\n",
       "      <td>0</td>\n",
       "      <td>0</td>\n",
       "      <td>0</td>\n",
       "      <td>0</td>\n",
       "      <td>...</td>\n",
       "      <td>1</td>\n",
       "      <td>0</td>\n",
       "      <td>0</td>\n",
       "      <td>0</td>\n",
       "      <td>0</td>\n",
       "      <td>0</td>\n",
       "      <td>1</td>\n",
       "      <td>0</td>\n",
       "      <td>0</td>\n",
       "      <td>1</td>\n",
       "    </tr>\n",
       "  </tbody>\n",
       "</table>\n",
       "<p>1 rows × 48 columns</p>\n",
       "</div>"
      ],
      "text/plain": [
       "   Kilometers_Driven  Mileage  Engine  Power  Seats  Age  Ambassador  Audi  \\\n",
       "0              40000     21.0  1498.0   99.0      5    7           0     0   \n",
       "\n",
       "   BMW  Bentley  ...  Diesel  Electric  LPG  Petrol  First  Fourth & Above  \\\n",
       "0    0        0  ...       1         0    0       0      0               0   \n",
       "\n",
       "   Second  Third  Automatic  Manual  \n",
       "0       1      0          0       1  \n",
       "\n",
       "[1 rows x 48 columns]"
      ]
     },
     "metadata": {},
     "output_type": "display_data"
    }
   ],
   "source": [
    "datacanbeused=pd.DataFrame(DictForPredition)\n",
    "display(datacanbeused)\n"
   ]
  },
  {
   "cell_type": "code",
   "execution_count": 54,
   "metadata": {},
   "outputs": [
    {
     "name": "stdout",
     "output_type": "stream",
     "text": [
      "[6.96943889]\n"
     ]
    }
   ],
   "source": [
    "import joblib\n",
    "\n",
    "model=joblib.load('Car')\n",
    "print(model.predict(datacanbeused))"
   ]
  }
 ],
 "metadata": {
  "kernelspec": {
   "display_name": "Python 3",
   "language": "python",
   "name": "python3"
  },
  "language_info": {
   "codemirror_mode": {
    "name": "ipython",
    "version": 3
   },
   "file_extension": ".py",
   "mimetype": "text/x-python",
   "name": "python",
   "nbconvert_exporter": "python",
   "pygments_lexer": "ipython3",
   "version": "3.11.4"
  }
 },
 "nbformat": 4,
 "nbformat_minor": 2
}
